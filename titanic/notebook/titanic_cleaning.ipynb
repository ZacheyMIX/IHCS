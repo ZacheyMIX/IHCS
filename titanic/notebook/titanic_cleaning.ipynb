{
 "cells": [
  {
   "cell_type": "code",
   "execution_count": 1,
   "metadata": {},
   "outputs": [
    {
     "data": {
      "text/html": [
       "<div>\n",
       "<style scoped>\n",
       "    .dataframe tbody tr th:only-of-type {\n",
       "        vertical-align: middle;\n",
       "    }\n",
       "\n",
       "    .dataframe tbody tr th {\n",
       "        vertical-align: top;\n",
       "    }\n",
       "\n",
       "    .dataframe thead th {\n",
       "        text-align: right;\n",
       "    }\n",
       "</style>\n",
       "<table border=\"1\" class=\"dataframe\">\n",
       "  <thead>\n",
       "    <tr style=\"text-align: right;\">\n",
       "      <th></th>\n",
       "      <th>PassengerId</th>\n",
       "      <th>Survived</th>\n",
       "      <th>Pclass</th>\n",
       "      <th>Name</th>\n",
       "      <th>Sex</th>\n",
       "      <th>Age</th>\n",
       "      <th>SibSp</th>\n",
       "      <th>Parch</th>\n",
       "      <th>Ticket</th>\n",
       "      <th>Fare</th>\n",
       "      <th>Cabin</th>\n",
       "      <th>Embarked</th>\n",
       "    </tr>\n",
       "  </thead>\n",
       "  <tbody>\n",
       "    <tr>\n",
       "      <th>0</th>\n",
       "      <td>1</td>\n",
       "      <td>0</td>\n",
       "      <td>3</td>\n",
       "      <td>Braund, Mr. Owen Harris</td>\n",
       "      <td>male</td>\n",
       "      <td>22.0</td>\n",
       "      <td>1</td>\n",
       "      <td>0</td>\n",
       "      <td>A/5 21171</td>\n",
       "      <td>7.2500</td>\n",
       "      <td>NaN</td>\n",
       "      <td>S</td>\n",
       "    </tr>\n",
       "    <tr>\n",
       "      <th>1</th>\n",
       "      <td>2</td>\n",
       "      <td>1</td>\n",
       "      <td>1</td>\n",
       "      <td>Cumings, Mrs. John Bradley (Florence Briggs Th...</td>\n",
       "      <td>female</td>\n",
       "      <td>38.0</td>\n",
       "      <td>1</td>\n",
       "      <td>0</td>\n",
       "      <td>PC 17599</td>\n",
       "      <td>71.2833</td>\n",
       "      <td>C85</td>\n",
       "      <td>C</td>\n",
       "    </tr>\n",
       "    <tr>\n",
       "      <th>2</th>\n",
       "      <td>3</td>\n",
       "      <td>1</td>\n",
       "      <td>3</td>\n",
       "      <td>Heikkinen, Miss. Laina</td>\n",
       "      <td>female</td>\n",
       "      <td>26.0</td>\n",
       "      <td>0</td>\n",
       "      <td>0</td>\n",
       "      <td>STON/O2. 3101282</td>\n",
       "      <td>7.9250</td>\n",
       "      <td>NaN</td>\n",
       "      <td>S</td>\n",
       "    </tr>\n",
       "    <tr>\n",
       "      <th>3</th>\n",
       "      <td>4</td>\n",
       "      <td>1</td>\n",
       "      <td>1</td>\n",
       "      <td>Futrelle, Mrs. Jacques Heath (Lily May Peel)</td>\n",
       "      <td>female</td>\n",
       "      <td>35.0</td>\n",
       "      <td>1</td>\n",
       "      <td>0</td>\n",
       "      <td>113803</td>\n",
       "      <td>53.1000</td>\n",
       "      <td>C123</td>\n",
       "      <td>S</td>\n",
       "    </tr>\n",
       "    <tr>\n",
       "      <th>4</th>\n",
       "      <td>5</td>\n",
       "      <td>0</td>\n",
       "      <td>3</td>\n",
       "      <td>Allen, Mr. William Henry</td>\n",
       "      <td>male</td>\n",
       "      <td>35.0</td>\n",
       "      <td>0</td>\n",
       "      <td>0</td>\n",
       "      <td>373450</td>\n",
       "      <td>8.0500</td>\n",
       "      <td>NaN</td>\n",
       "      <td>S</td>\n",
       "    </tr>\n",
       "  </tbody>\n",
       "</table>\n",
       "</div>"
      ],
      "text/plain": [
       "   PassengerId  Survived  Pclass  \\\n",
       "0            1         0       3   \n",
       "1            2         1       1   \n",
       "2            3         1       3   \n",
       "3            4         1       1   \n",
       "4            5         0       3   \n",
       "\n",
       "                                                Name     Sex   Age  SibSp  \\\n",
       "0                            Braund, Mr. Owen Harris    male  22.0      1   \n",
       "1  Cumings, Mrs. John Bradley (Florence Briggs Th...  female  38.0      1   \n",
       "2                             Heikkinen, Miss. Laina  female  26.0      0   \n",
       "3       Futrelle, Mrs. Jacques Heath (Lily May Peel)  female  35.0      1   \n",
       "4                           Allen, Mr. William Henry    male  35.0      0   \n",
       "\n",
       "   Parch            Ticket     Fare Cabin Embarked  \n",
       "0      0         A/5 21171   7.2500   NaN        S  \n",
       "1      0          PC 17599  71.2833   C85        C  \n",
       "2      0  STON/O2. 3101282   7.9250   NaN        S  \n",
       "3      0            113803  53.1000  C123        S  \n",
       "4      0            373450   8.0500   NaN        S  "
      ]
     },
     "execution_count": 1,
     "metadata": {},
     "output_type": "execute_result"
    }
   ],
   "source": [
    "import pandas as pd\n",
    "\n",
    "df = pd.read_csv(\"../data/Titanic-Dataset.csv\")\n",
    "\n",
    "df.head()"
   ]
  },
  {
   "cell_type": "code",
   "execution_count": 2,
   "metadata": {},
   "outputs": [
    {
     "name": "stdout",
     "output_type": "stream",
     "text": [
      "<class 'pandas.core.frame.DataFrame'>\n",
      "RangeIndex: 891 entries, 0 to 890\n",
      "Data columns (total 12 columns):\n",
      " #   Column       Non-Null Count  Dtype  \n",
      "---  ------       --------------  -----  \n",
      " 0   PassengerId  891 non-null    int64  \n",
      " 1   Survived     891 non-null    int64  \n",
      " 2   Pclass       891 non-null    int64  \n",
      " 3   Name         891 non-null    object \n",
      " 4   Sex          891 non-null    object \n",
      " 5   Age          714 non-null    float64\n",
      " 6   SibSp        891 non-null    int64  \n",
      " 7   Parch        891 non-null    int64  \n",
      " 8   Ticket       891 non-null    object \n",
      " 9   Fare         891 non-null    float64\n",
      " 10  Cabin        204 non-null    object \n",
      " 11  Embarked     889 non-null    object \n",
      "dtypes: float64(2), int64(5), object(5)\n",
      "memory usage: 83.7+ KB\n"
     ]
    },
    {
     "data": {
      "text/plain": [
       "PassengerId      0\n",
       "Survived         0\n",
       "Pclass           0\n",
       "Name             0\n",
       "Sex              0\n",
       "Age            177\n",
       "SibSp            0\n",
       "Parch            0\n",
       "Ticket           0\n",
       "Fare             0\n",
       "Cabin          687\n",
       "Embarked         2\n",
       "dtype: int64"
      ]
     },
     "execution_count": 2,
     "metadata": {},
     "output_type": "execute_result"
    }
   ],
   "source": [
    "df.info()\n",
    "df.isnull().sum()"
   ]
  },
  {
   "cell_type": "code",
   "execution_count": 3,
   "metadata": {},
   "outputs": [],
   "source": [
    "import numpy as np\n",
    "\n",
    "def detect_errors(df):\n",
    "    errors = pd.DataFrame(index=df.index)\n",
    "\n",
    "    # Missing values\n",
    "    errors['missing_age'] = df['Age'].isnull()\n",
    "    errors['missing_cabin'] = df['Cabin'].isnull()\n",
    "    errors['missing_embarked'] = df['Embarked'].isnull()\n",
    "\n",
    "    # Invalid 'Sex' values\n",
    "    errors['invalid_sex'] = ~df['Sex'].isin(['male', 'female'])\n",
    "\n",
    "    # Invalid 'Pclass' values (should be 1, 2, or 3)\n",
    "    errors['invalid_pclass'] = ~df['Pclass'].isin([1, 2, 3])\n",
    "\n",
    "    # Outlier detection in Fare (Z-score > 3)\n",
    "    z_fare = (df['Fare'] - df['Fare'].mean()) / df['Fare'].std()\n",
    "    errors['fare_outlier'] = z_fare.abs() > 3\n",
    "\n",
    "    return errors"
   ]
  },
  {
   "cell_type": "code",
   "execution_count": 4,
   "metadata": {},
   "outputs": [
    {
     "data": {
      "text/plain": [
       "missing_age         177\n",
       "missing_cabin       687\n",
       "missing_embarked      2\n",
       "invalid_sex           0\n",
       "invalid_pclass        0\n",
       "fare_outlier         20\n",
       "dtype: int64"
      ]
     },
     "execution_count": 4,
     "metadata": {},
     "output_type": "execute_result"
    }
   ],
   "source": [
    "errors = detect_errors(df)\n",
    "errors.sum()  \n"
   ]
  },
  {
   "cell_type": "code",
   "execution_count": 5,
   "metadata": {},
   "outputs": [],
   "source": [
    "def repair_data(df):\n",
    "    df_clean = df.copy()\n",
    "\n",
    "    # Repair missing Age — use median grouped by Sex and Pclass\n",
    "    df_clean['Age'] = df_clean.groupby(['Sex', 'Pclass'])['Age'].transform(\n",
    "        lambda x: x.fillna(x.median())\n",
    "    )\n",
    "\n",
    "    # Fill missing Embarked with the most common value\n",
    "    df_clean['Embarked'] = df_clean['Embarked'].fillna(df_clean['Embarked'].mode()[0])\n",
    "\n",
    "    # Handle Cabin — mark missing ones as 'Unknown'\n",
    "    df_clean['Cabin'] = df_clean['Cabin'].fillna('Unknown')\n",
    "\n",
    "    # Cap Fare outliers at 95th percentile\n",
    "    fare_cap = df_clean['Fare'].quantile(0.95)\n",
    "    df_clean['Fare'] = np.where(df_clean['Fare'] > fare_cap, fare_cap, df_clean['Fare'])\n",
    "\n",
    "    return df_clean"
   ]
  },
  {
   "cell_type": "code",
   "execution_count": 6,
   "metadata": {},
   "outputs": [
    {
     "data": {
      "text/plain": [
       "PassengerId    0\n",
       "Survived       0\n",
       "Pclass         0\n",
       "Name           0\n",
       "Sex            0\n",
       "Age            0\n",
       "SibSp          0\n",
       "Parch          0\n",
       "Ticket         0\n",
       "Fare           0\n",
       "Cabin          0\n",
       "Embarked       0\n",
       "dtype: int64"
      ]
     },
     "execution_count": 6,
     "metadata": {},
     "output_type": "execute_result"
    }
   ],
   "source": [
    "df_clean = repair_data(df)\n",
    "\n",
    "# Check if issues were fixed\n",
    "df_clean.isnull().sum()\n"
   ]
  },
  {
   "cell_type": "code",
   "execution_count": 7,
   "metadata": {},
   "outputs": [
    {
     "data": {
      "text/plain": [
       "(              Age        Fare\n",
       " count  714.000000  891.000000\n",
       " mean    29.699118   32.204208\n",
       " std     14.526497   49.693429\n",
       " min      0.420000    0.000000\n",
       " 25%     20.125000    7.910400\n",
       " 50%     28.000000   14.454200\n",
       " 75%     38.000000   31.000000\n",
       " max     80.000000  512.329200,\n",
       "               Age        Fare\n",
       " count  891.000000  891.000000\n",
       " mean    29.112424   27.720486\n",
       " std     13.304424   29.225083\n",
       " min      0.420000    0.000000\n",
       " 25%     21.500000    7.910400\n",
       " 50%     26.000000   14.454200\n",
       " 75%     36.000000   31.000000\n",
       " max     80.000000  112.079150)"
      ]
     },
     "execution_count": 7,
     "metadata": {},
     "output_type": "execute_result"
    }
   ],
   "source": [
    "# Summary statistics before vs after cleaning\n",
    "df[['Age', 'Fare']].describe(), df_clean[['Age', 'Fare']].describe()\n"
   ]
  },
  {
   "cell_type": "code",
   "execution_count": 9,
   "metadata": {},
   "outputs": [],
   "source": [
    "import pandas as pd\n",
    "import os\n",
    "\n",
    "# Load your dataset\n",
    "df = pd.read_csv(\"../data/Titanic-Dataset.csv\")  # adjust path if needed\n",
    "\n",
    "# Create output folder if it doesn't exist\n",
    "os.makedirs(\"mln\", exist_ok=True)\n",
    "\n",
    "# ---------------------------\n",
    "# 1. rules.mln – your MLN logic\n",
    "# ---------------------------\n",
    "mln_rules = \"\"\"\n",
    "// Predicate declarations\n",
    "Sex(person, gender)\n",
    "Pclass(person, class)\n",
    "MissingAge(person)\n",
    "HasAge(person, age)\n",
    "\n",
    "// Soft rules (example weights, tweak as needed)\n",
    "MissingAge(x) ^ Sex(x, female) ^ Pclass(x, 1) => HasAge(x, 35.0) ^0.9\n",
    "MissingAge(x) ^ Sex(x, female) ^ Pclass(x, 3) => HasAge(x, 22.0) ^0.8\n",
    "MissingAge(x) ^ Sex(x, male) ^ Pclass(x, 1) => HasAge(x, 40.0) ^0.85\n",
    "MissingAge(x) ^ Sex(x, male) ^ Pclass(x, 3) => HasAge(x, 25.0) ^0.7\n",
    "\"\"\"\n",
    "\n",
    "with open(\"mln/rules.mln\", \"w\") as f:\n",
    "    f.write(mln_rules.strip())\n",
    "\n",
    "# ---------------------------\n",
    "# 2. facts.db – extracted facts\n",
    "# ---------------------------\n",
    "with open(\"mln/facts.db\", \"w\") as f:\n",
    "    for i, row in df.iterrows():\n",
    "        pid = f\"p{i}\"\n",
    "        f.write(f\"Sex({pid}, {row['Sex']})\\n\")\n",
    "        f.write(f\"Pclass({pid}, {int(row['Pclass'])})\\n\")\n",
    "        if pd.isnull(row['Age']):\n",
    "            f.write(f\"MissingAge({pid})\\n\")\n",
    "        else:\n",
    "            f.write(f\"HasAge({pid}, {row['Age']})\\n\")\n",
    "\n",
    "# ---------------------------\n",
    "# 3. query.db – what you want Tuffy to infer\n",
    "# ---------------------------\n",
    "with open(\"mln/query.db\", \"w\") as f:\n",
    "    for i, row in df.iterrows():\n",
    "        if pd.isnull(row['Age']):\n",
    "            pid = f\"p{i}\"\n",
    "            f.write(f\"HasAge({pid}, a)\\n\")\n"
   ]
  },
  {
   "cell_type": "code",
   "execution_count": null,
   "metadata": {},
   "outputs": [],
   "source": []
  }
 ],
 "metadata": {
  "kernelspec": {
   "display_name": "Python 3",
   "language": "python",
   "name": "python3"
  },
  "language_info": {
   "codemirror_mode": {
    "name": "ipython",
    "version": 3
   },
   "file_extension": ".py",
   "mimetype": "text/x-python",
   "name": "python",
   "nbconvert_exporter": "python",
   "pygments_lexer": "ipython3",
   "version": "3.13.2"
  }
 },
 "nbformat": 4,
 "nbformat_minor": 2
}
