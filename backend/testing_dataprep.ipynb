{
 "cells": [
  {
   "cell_type": "code",
   "execution_count": 14,
   "metadata": {},
   "outputs": [],
   "source": [
    "import pandas as pd\n",
    "import numpy as np\n",
    "import datetime\n",
    "from dataprep.clean import clean_date, clean_df, clean_email, clean_address"
   ]
  },
  {
   "cell_type": "code",
   "execution_count": 2,
   "metadata": {},
   "outputs": [],
   "source": [
    "md_df = pd.read_csv('/Users/novellaalvina/Documents/US/UTAH/Lessons/MS/Spring2025/CS 6964/project/IHCS/potential_dataset/Messy-Data.csv')"
   ]
  },
  {
   "cell_type": "code",
   "execution_count": 3,
   "metadata": {},
   "outputs": [
    {
     "data": {
      "text/html": [
       "<div>\n",
       "<style scoped>\n",
       "    .dataframe tbody tr th:only-of-type {\n",
       "        vertical-align: middle;\n",
       "    }\n",
       "\n",
       "    .dataframe tbody tr th {\n",
       "        vertical-align: top;\n",
       "    }\n",
       "\n",
       "    .dataframe thead th {\n",
       "        text-align: right;\n",
       "    }\n",
       "</style>\n",
       "<table border=\"1\" class=\"dataframe\">\n",
       "  <thead>\n",
       "    <tr style=\"text-align: right;\">\n",
       "      <th></th>\n",
       "      <th>Name</th>\n",
       "      <th>EmployeeID</th>\n",
       "      <th>Salary</th>\n",
       "      <th>DOB</th>\n",
       "      <th>JoinDate</th>\n",
       "      <th>Year of Service</th>\n",
       "      <th>Weight</th>\n",
       "      <th>Address</th>\n",
       "      <th>Email</th>\n",
       "    </tr>\n",
       "  </thead>\n",
       "  <tbody>\n",
       "    <tr>\n",
       "      <th>0</th>\n",
       "      <td>Aishwarya Menon</td>\n",
       "      <td>0194-826-537</td>\n",
       "      <td>90000</td>\n",
       "      <td>15th December, 1984</td>\n",
       "      <td>24.05.2009</td>\n",
       "      <td>NaN</td>\n",
       "      <td>150 lbs</td>\n",
       "      <td>123 Elm St Apt 5, New York, NY 10001</td>\n",
       "      <td>aishwarya.menon@g mail.com</td>\n",
       "    </tr>\n",
       "    <tr>\n",
       "      <th>1</th>\n",
       "      <td>Al-Farsi, Ahmed</td>\n",
       "      <td>426-930-0187</td>\n",
       "      <td>800K</td>\n",
       "      <td>5/21/80</td>\n",
       "      <td>24-May-15</td>\n",
       "      <td>7 years</td>\n",
       "      <td>68.5 kg</td>\n",
       "      <td>456 Maple Ave #101, Los Angeles, CA 90210</td>\n",
       "      <td>ahmed.alfarsi@yahoo.c om</td>\n",
       "    </tr>\n",
       "    <tr>\n",
       "      <th>2</th>\n",
       "      <td>Al-Farsi, Ahmed</td>\n",
       "      <td>426 930 0187</td>\n",
       "      <td>800K</td>\n",
       "      <td>5/21/80</td>\n",
       "      <td>24-May-15</td>\n",
       "      <td>NaN</td>\n",
       "      <td>68.5 kg</td>\n",
       "      <td>456 Maple Ave APT 101, Los Angeles, CA 90210</td>\n",
       "      <td>ahmed.alfarsi@yahoo.com</td>\n",
       "    </tr>\n",
       "    <tr>\n",
       "      <th>3</th>\n",
       "      <td>Al-Farsi, Ahmed M.</td>\n",
       "      <td>0654-890-127</td>\n",
       "      <td>500K</td>\n",
       "      <td>03.10.1978</td>\n",
       "      <td>2-Jun-10</td>\n",
       "      <td>12 years</td>\n",
       "      <td>75.2 kg</td>\n",
       "      <td>987 Pine Blvd, San Francisco, CA 94102</td>\n",
       "      <td>ahmed.m.alfarsi@gmail.c om</td>\n",
       "    </tr>\n",
       "    <tr>\n",
       "      <th>4</th>\n",
       "      <td>Alice B. Brown</td>\n",
       "      <td>0632 750 194</td>\n",
       "      <td>$950,000</td>\n",
       "      <td>8/12/83</td>\n",
       "      <td>15-Oct-18</td>\n",
       "      <td>3 years</td>\n",
       "      <td>200 lbs</td>\n",
       "      <td>654 Birch Rd, Apt 305, Boston, MA 02108</td>\n",
       "      <td>alice.brown@gmail.com</td>\n",
       "    </tr>\n",
       "    <tr>\n",
       "      <th>5</th>\n",
       "      <td>Alice K Brown</td>\n",
       "      <td>0429-581-0763</td>\n",
       "      <td>780K</td>\n",
       "      <td>2/10/83</td>\n",
       "      <td>1-Jul-15</td>\n",
       "      <td>NaN</td>\n",
       "      <td>90.3 kg</td>\n",
       "      <td>321 Cedar Dr, Seattle, WA 98101</td>\n",
       "      <td>alice.88-brown@yahoo.com</td>\n",
       "    </tr>\n",
       "    <tr>\n",
       "      <th>6</th>\n",
       "      <td>Chen, Mei</td>\n",
       "      <td>00482-679-013</td>\n",
       "      <td>$25,000</td>\n",
       "      <td>5/15/90</td>\n",
       "      <td>8/23/05</td>\n",
       "      <td>16 years</td>\n",
       "      <td>160 lbs</td>\n",
       "      <td>111 Willow Cir #7, Houston, TX 77002</td>\n",
       "      <td>mei.chen@yahoo.c om</td>\n",
       "    </tr>\n",
       "    <tr>\n",
       "      <th>7</th>\n",
       "      <td>Chen, Mei</td>\n",
       "      <td>0983-567-0124</td>\n",
       "      <td>33,000</td>\n",
       "      <td>9/18/77</td>\n",
       "      <td>12.22.2014</td>\n",
       "      <td>NaN</td>\n",
       "      <td>72.6 kg</td>\n",
       "      <td>222 Spruce Ct, Atlanta, GA 30301</td>\n",
       "      <td>mei.chen@yahoo.c om</td>\n",
       "    </tr>\n",
       "    <tr>\n",
       "      <th>8</th>\n",
       "      <td>Choudhary-Smith, Meera</td>\n",
       "      <td>0502-349-0186</td>\n",
       "      <td>42K</td>\n",
       "      <td>16th August, 1971</td>\n",
       "      <td>14/12/2012</td>\n",
       "      <td>NaN</td>\n",
       "      <td>145 pounds</td>\n",
       "      <td>333 Fir Pl, Miami, FL 33101</td>\n",
       "      <td>meera.choudhary-smith@g mail.com</td>\n",
       "    </tr>\n",
       "    <tr>\n",
       "      <th>9</th>\n",
       "      <td>Chris Davis, Esq.</td>\n",
       "      <td>105-297-384</td>\n",
       "      <td>15K</td>\n",
       "      <td>19/07/1972</td>\n",
       "      <td>28-Sep-09</td>\n",
       "      <td>12 years</td>\n",
       "      <td>65.7 kg</td>\n",
       "      <td>444 Poplar Ln, Unit 12, Dallas, TX 75201</td>\n",
       "      <td>chris.davis.esq@gmail.com</td>\n",
       "    </tr>\n",
       "  </tbody>\n",
       "</table>\n",
       "</div>"
      ],
      "text/plain": [
       "                     Name     EmployeeID     Salary                  DOB  \\\n",
       "0         Aishwarya Menon   0194-826-537      90000  15th December, 1984   \n",
       "1         Al-Farsi, Ahmed   426-930-0187       800K              5/21/80   \n",
       "2         Al-Farsi, Ahmed   426 930 0187       800K              5/21/80   \n",
       "3      Al-Farsi, Ahmed M.   0654-890-127       500K           03.10.1978   \n",
       "4          Alice B. Brown   0632 750 194  $950,000               8/12/83   \n",
       "5           Alice K Brown  0429-581-0763       780K              2/10/83   \n",
       "6               Chen, Mei  00482-679-013   $25,000               5/15/90   \n",
       "7               Chen, Mei  0983-567-0124     33,000              9/18/77   \n",
       "8  Choudhary-Smith, Meera  0502-349-0186        42K    16th August, 1971   \n",
       "9       Chris Davis, Esq.    105-297-384        15K           19/07/1972   \n",
       "\n",
       "     JoinDate Year of Service      Weight  \\\n",
       "0  24.05.2009             NaN     150 lbs   \n",
       "1   24-May-15         7 years     68.5 kg   \n",
       "2   24-May-15             NaN     68.5 kg   \n",
       "3    2-Jun-10        12 years     75.2 kg   \n",
       "4   15-Oct-18         3 years     200 lbs   \n",
       "5    1-Jul-15             NaN     90.3 kg   \n",
       "6     8/23/05        16 years     160 lbs   \n",
       "7  12.22.2014             NaN     72.6 kg   \n",
       "8  14/12/2012             NaN  145 pounds   \n",
       "9   28-Sep-09        12 years     65.7 kg   \n",
       "\n",
       "                                        Address  \\\n",
       "0          123 Elm St Apt 5, New York, NY 10001   \n",
       "1     456 Maple Ave #101, Los Angeles, CA 90210   \n",
       "2  456 Maple Ave APT 101, Los Angeles, CA 90210   \n",
       "3        987 Pine Blvd, San Francisco, CA 94102   \n",
       "4       654 Birch Rd, Apt 305, Boston, MA 02108   \n",
       "5               321 Cedar Dr, Seattle, WA 98101   \n",
       "6          111 Willow Cir #7, Houston, TX 77002   \n",
       "7              222 Spruce Ct, Atlanta, GA 30301   \n",
       "8                   333 Fir Pl, Miami, FL 33101   \n",
       "9      444 Poplar Ln, Unit 12, Dallas, TX 75201   \n",
       "\n",
       "                              Email  \n",
       "0        aishwarya.menon@g mail.com  \n",
       "1          ahmed.alfarsi@yahoo.c om  \n",
       "2           ahmed.alfarsi@yahoo.com  \n",
       "3        ahmed.m.alfarsi@gmail.c om  \n",
       "4             alice.brown@gmail.com  \n",
       "5          alice.88-brown@yahoo.com  \n",
       "6               mei.chen@yahoo.c om  \n",
       "7               mei.chen@yahoo.c om  \n",
       "8  meera.choudhary-smith@g mail.com  \n",
       "9         chris.davis.esq@gmail.com  "
      ]
     },
     "execution_count": 3,
     "metadata": {},
     "output_type": "execute_result"
    }
   ],
   "source": [
    "md_df.head(10)"
   ]
  },
  {
   "cell_type": "code",
   "execution_count": 4,
   "metadata": {},
   "outputs": [
    {
     "name": "stdout",
     "output_type": "stream",
     "text": [
      "Data Type Detection Report:\n",
      "\tThese data types are supported by DataPrep to clean: ['URL', 'address']\n",
      "Column Headers Cleaning Report:\n",
      "\t9 values cleaned (100.0%)\n",
      "Downcast Memory Report:\n",
      "\tMemory reducted from 31248 to 38533. New size: (123.31%)\n"
     ]
    }
   ],
   "source": [
    "inferred_dtypes, formatted_df = clean_df(md_df, standardize_missing_values='ignore')"
   ]
  },
  {
   "cell_type": "code",
   "execution_count": 5,
   "metadata": {},
   "outputs": [
    {
     "data": {
      "text/html": [
       "<div>\n",
       "<style scoped>\n",
       "    .dataframe tbody tr th:only-of-type {\n",
       "        vertical-align: middle;\n",
       "    }\n",
       "\n",
       "    .dataframe tbody tr th {\n",
       "        vertical-align: top;\n",
       "    }\n",
       "\n",
       "    .dataframe thead th {\n",
       "        text-align: right;\n",
       "    }\n",
       "</style>\n",
       "<table border=\"1\" class=\"dataframe\">\n",
       "  <thead>\n",
       "    <tr style=\"text-align: right;\">\n",
       "      <th></th>\n",
       "      <th>semantic_data_type</th>\n",
       "      <th>atomic_data_type</th>\n",
       "    </tr>\n",
       "  </thead>\n",
       "  <tbody>\n",
       "    <tr>\n",
       "      <th>Name</th>\n",
       "      <td>string</td>\n",
       "      <td>string</td>\n",
       "    </tr>\n",
       "    <tr>\n",
       "      <th>EmployeeID</th>\n",
       "      <td>string</td>\n",
       "      <td>string</td>\n",
       "    </tr>\n",
       "    <tr>\n",
       "      <th>Salary</th>\n",
       "      <td>string</td>\n",
       "      <td>string</td>\n",
       "    </tr>\n",
       "    <tr>\n",
       "      <th>DOB</th>\n",
       "      <td>string</td>\n",
       "      <td>string</td>\n",
       "    </tr>\n",
       "    <tr>\n",
       "      <th>JoinDate</th>\n",
       "      <td>string</td>\n",
       "      <td>string</td>\n",
       "    </tr>\n",
       "    <tr>\n",
       "      <th>Year of Service</th>\n",
       "      <td>address</td>\n",
       "      <td>string</td>\n",
       "    </tr>\n",
       "    <tr>\n",
       "      <th>Weight</th>\n",
       "      <td>address</td>\n",
       "      <td>string</td>\n",
       "    </tr>\n",
       "    <tr>\n",
       "      <th>Address</th>\n",
       "      <td>address</td>\n",
       "      <td>string</td>\n",
       "    </tr>\n",
       "    <tr>\n",
       "      <th>Email</th>\n",
       "      <td>URL</td>\n",
       "      <td>string</td>\n",
       "    </tr>\n",
       "  </tbody>\n",
       "</table>\n",
       "</div>"
      ],
      "text/plain": [
       "                semantic_data_type atomic_data_type\n",
       "Name                        string           string\n",
       "EmployeeID                  string           string\n",
       "Salary                      string           string\n",
       "DOB                         string           string\n",
       "JoinDate                    string           string\n",
       "Year of Service            address           string\n",
       "Weight                     address           string\n",
       "Address                    address           string\n",
       "Email                          URL           string"
      ]
     },
     "execution_count": 5,
     "metadata": {},
     "output_type": "execute_result"
    }
   ],
   "source": [
    "inferred_dtypes"
   ]
  },
  {
   "cell_type": "code",
   "execution_count": 6,
   "metadata": {},
   "outputs": [
    {
     "data": {
      "text/plain": [
       "Index(['name', 'employee_id', 'salary', 'dob', 'join_date', 'year_of_service',\n",
       "       'weight', 'address', 'email'],\n",
       "      dtype='object')"
      ]
     },
     "execution_count": 6,
     "metadata": {},
     "output_type": "execute_result"
    }
   ],
   "source": [
    "formatted_df.columns"
   ]
  },
  {
   "cell_type": "code",
   "execution_count": 16,
   "metadata": {},
   "outputs": [
    {
     "name": "stderr",
     "output_type": "stream",
     "text": [
      "/opt/anaconda3/envs/ihcs/lib/python3.10/site-packages/dask/dataframe/core.py:7234: FutureWarning: Meta is not valid, `map_partitions` and `map_overlap` expects output to be a pandas object. Try passing a pandas object as meta or a dict or tuple representing the (name, dtype) of the columns. In the future the meta you passed will not work.\n",
      "  warnings.warn(\n",
      "/opt/anaconda3/envs/ihcs/lib/python3.10/site-packages/dask/dataframe/core.py:7234: FutureWarning: Meta is not valid, `map_partitions` and `map_overlap` expects output to be a pandas object. Try passing a pandas object as meta or a dict or tuple representing the (name, dtype) of the columns. In the future the meta you passed will not work.\n",
      "  warnings.warn(\n"
     ]
    },
    {
     "data": {
      "application/vnd.jupyter.widget-view+json": {
       "model_id": "8d9a64a6bbac43a68ed1f2fdda6eb3d1",
       "version_major": 2,
       "version_minor": 0
      },
      "text/plain": [
       "  0%|          | 0/8 [00:00<?, ?it/s]"
      ]
     },
     "metadata": {},
     "output_type": "display_data"
    },
    {
     "name": "stdout",
     "output_type": "stream",
     "text": [
      "Dates Cleaning Report:\n",
      "\t48 values cleaned (96.0%)\n",
      "\t2 values unable to be parsed (4.0%), set to NaN\n",
      "Result contains 48 (96.0%) values in the correct format and 2 null values (4.0%)\n"
     ]
    },
    {
     "name": "stderr",
     "output_type": "stream",
     "text": [
      "/opt/anaconda3/envs/ihcs/lib/python3.10/site-packages/dask/dataframe/core.py:7234: FutureWarning: Meta is not valid, `map_partitions` and `map_overlap` expects output to be a pandas object. Try passing a pandas object as meta or a dict or tuple representing the (name, dtype) of the columns. In the future the meta you passed will not work.\n",
      "  warnings.warn(\n",
      "/opt/anaconda3/envs/ihcs/lib/python3.10/site-packages/dask/dataframe/core.py:7234: FutureWarning: Meta is not valid, `map_partitions` and `map_overlap` expects output to be a pandas object. Try passing a pandas object as meta or a dict or tuple representing the (name, dtype) of the columns. In the future the meta you passed will not work.\n",
      "  warnings.warn(\n"
     ]
    },
    {
     "data": {
      "application/vnd.jupyter.widget-view+json": {
       "model_id": "0ca4517c6de047a494669eecb9c8623c",
       "version_major": 2,
       "version_minor": 0
      },
      "text/plain": [
       "  0%|          | 0/8 [00:00<?, ?it/s]"
      ]
     },
     "metadata": {},
     "output_type": "display_data"
    },
    {
     "name": "stdout",
     "output_type": "stream",
     "text": [
      "Dates Cleaning Report:\n",
      "\t49 values cleaned (98.0%)\n",
      "\t1 values unable to be parsed (2.0%), set to NaN\n",
      "Result contains 49 (98.0%) values in the correct format and 1 null values (2.0%)\n"
     ]
    },
    {
     "name": "stderr",
     "output_type": "stream",
     "text": [
      "/opt/anaconda3/envs/ihcs/lib/python3.10/site-packages/dask/dataframe/core.py:7234: FutureWarning: Meta is not valid, `map_partitions` and `map_overlap` expects output to be a pandas object. Try passing a pandas object as meta or a dict or tuple representing the (name, dtype) of the columns. In the future the meta you passed will not work.\n",
      "  warnings.warn(\n"
     ]
    },
    {
     "data": {
      "application/vnd.jupyter.widget-view+json": {
       "model_id": "4158259ef1e2485d94e5861050f1bcdd",
       "version_major": 2,
       "version_minor": 0
      },
      "text/plain": [
       "  0%|          | 0/8 [00:00<?, ?it/s]"
      ]
     },
     "metadata": {},
     "output_type": "display_data"
    },
    {
     "name": "stdout",
     "output_type": "stream",
     "text": [
      "email Cleaning Report:\n",
      "Result contains 50 (100.0%) values in the correct format and 0 null values (0.0%)\n"
     ]
    },
    {
     "name": "stderr",
     "output_type": "stream",
     "text": [
      "/opt/anaconda3/envs/ihcs/lib/python3.10/site-packages/dask/dataframe/core.py:7234: FutureWarning: Meta is not valid, `map_partitions` and `map_overlap` expects output to be a pandas object. Try passing a pandas object as meta or a dict or tuple representing the (name, dtype) of the columns. In the future the meta you passed will not work.\n",
      "  warnings.warn(\n"
     ]
    },
    {
     "data": {
      "application/vnd.jupyter.widget-view+json": {
       "model_id": "25977871e12e4d82bba4849a908b7d98",
       "version_major": 2,
       "version_minor": 0
      },
      "text/plain": [
       "  0%|          | 0/8 [00:00<?, ?it/s]"
      ]
     },
     "metadata": {},
     "output_type": "display_data"
    },
    {
     "name": "stdout",
     "output_type": "stream",
     "text": [
      "Address Cleaning Report:\n",
      "Result contains 50 (100.0%) values in the correct format and 0 null values (0.0%)\n"
     ]
    }
   ],
   "source": [
    "columns_to_format = {'dob': 'datetime', 'join_date': 'datetime', 'email': 'email', 'address': 'US_address'}\n",
    "year_format = {'dob': True, 'join_date': False}\n",
    "for col in columns_to_format.keys():\n",
    "    data_type = columns_to_format[col]\n",
    "    \n",
    "    if data_type == 'datetime':\n",
    "        formatted_df[col] = clean_date(formatted_df, col, inplace=True, report=True, progress=True)[f'{col}_clean']\n",
    "        formatted_df[col] = pd.to_datetime(formatted_df[col])\n",
    "        if year_format[col]:\n",
    "            formatted_df[col] = formatted_df[col].apply(lambda x: x.replace(year=x.year-100) if x.year > datetime.datetime.now().year else x)\n",
    "    elif data_type == 'email':\n",
    "        formatted_df[col] = clean_email(formatted_df, col, remove_whitespace=True, report=True, progress=True)[f'{col}_clean']\n",
    "    elif data_type == 'US_address':\n",
    "        formatted_df[col] = clean_address(formatted_df, col, report=True, progress=True)[f'{col}_clean']\n"
   ]
  },
  {
   "cell_type": "code",
   "execution_count": 9,
   "metadata": {},
   "outputs": [
    {
     "name": "stdout",
     "output_type": "stream",
     "text": [
      "<class 'pandas.core.frame.DataFrame'>\n",
      "RangeIndex: 50 entries, 0 to 49\n",
      "Data columns (total 9 columns):\n",
      " #   Column           Non-Null Count  Dtype         \n",
      "---  ------           --------------  -----         \n",
      " 0   name             50 non-null     category      \n",
      " 1   employee_id      50 non-null     category      \n",
      " 2   salary           50 non-null     category      \n",
      " 3   dob              48 non-null     datetime64[ns]\n",
      " 4   join_date        49 non-null     datetime64[ns]\n",
      " 5   year_of_service  22 non-null     category      \n",
      " 6   weight           50 non-null     category      \n",
      " 7   address          50 non-null     object        \n",
      " 8   email            50 non-null     object        \n",
      "dtypes: category(5), datetime64[ns](2), object(2)\n",
      "memory usage: 9.2+ KB\n"
     ]
    }
   ],
   "source": [
    "formatted_df.info()"
   ]
  },
  {
   "cell_type": "code",
   "execution_count": 17,
   "metadata": {},
   "outputs": [
    {
     "data": {
      "text/plain": [
       "array([1984., 1980., 1978., 1983., 1990., 1977.,   nan, 1972., 1996.,\n",
       "       1999., 1986., 1968., 1991., 1970., 1994., 1975., 1998., 1965.,\n",
       "       1979., 1976., 1982., 1989., 1973., 1974., 1995., 1987., 1988.,\n",
       "       1985., 1993., 1997., 1992., 1971., 1981.])"
      ]
     },
     "execution_count": 17,
     "metadata": {},
     "output_type": "execute_result"
    }
   ],
   "source": [
    "formatted_df['dob'].dt.year.unique()"
   ]
  }
 ],
 "metadata": {
  "kernelspec": {
   "display_name": "ihcs",
   "language": "python",
   "name": "python3"
  },
  "language_info": {
   "codemirror_mode": {
    "name": "ipython",
    "version": 3
   },
   "file_extension": ".py",
   "mimetype": "text/x-python",
   "name": "python",
   "nbconvert_exporter": "python",
   "pygments_lexer": "ipython3",
   "version": "3.10.14"
  }
 },
 "nbformat": 4,
 "nbformat_minor": 2
}
